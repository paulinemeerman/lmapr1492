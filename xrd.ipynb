{
 "cells": [
  {
   "cell_type": "code",
   "execution_count": 1,
   "id": "b30c14bb",
   "metadata": {},
   "outputs": [],
   "source": [
    "import numpy as np\n",
    "import matplotlib.pyplot as plt\n",
    "from pymatgen.ext.matproj import MPRester\n",
    "from pymatgen.analysis.diffraction.xrd import XRDCalculator"
   ]
  },
  {
   "cell_type": "code",
   "execution_count": 2,
   "id": "ea66ffaa",
   "metadata": {},
   "outputs": [],
   "source": [
    "# Clé API et ID Matériau\n",
    "mp_key = \"71t7m37H7F5Jw2PfGOrlKxgH4ZbRQh3W\"\n",
    "mp_id = \"mp-11739\"\n",
    "WAVELENGTH = 1.54060  # Rayonnement Cu Kα en Å"
   ]
  },
  {
   "cell_type": "code",
   "execution_count": 3,
   "id": "04d5db47",
   "metadata": {},
   "outputs": [
    {
     "data": {
      "application/vnd.jupyter.widget-view+json": {
       "model_id": "88b3c11fabd24512bcef34a75a836703",
       "version_major": 2,
       "version_minor": 0
      },
      "text/plain": [
       "Retrieving MaterialsDoc documents:   0%|          | 0/1 [00:00<?, ?it/s]"
      ]
     },
     "metadata": {},
     "output_type": "display_data"
    }
   ],
   "source": [
    "# Chargement de la structure depuis Materials Project\n",
    "with MPRester(mp_key) as m:\n",
    "    structure = m.get_structure_by_material_id(mp_id)"
   ]
  },
  {
   "cell_type": "code",
   "execution_count": 4,
   "id": "d4f12eac",
   "metadata": {},
   "outputs": [],
   "source": [
    "# --- CALCUL DU DIFFRACTOGRAMME ---\n",
    "xrd = XRDCalculator(wavelength=WAVELENGTH)\n",
    "diffraction_pattern = xrd.get_pattern(structure)"
   ]
  },
  {
   "cell_type": "code",
   "execution_count": 5,
   "id": "f5ff63da",
   "metadata": {},
   "outputs": [],
   "source": [
    "# Récupération des données\n",
    "angles_2theta = np.array(diffraction_pattern.x)\n",
    "intensities = np.array(diffraction_pattern.y)\n",
    "indices_hkl = diffraction_pattern.hkls  # Liste des indices hkl"
   ]
  },
  {
   "cell_type": "code",
   "execution_count": 6,
   "id": "0298a2e3",
   "metadata": {},
   "outputs": [
    {
     "data": {
      "image/png": "i",
      "text/plain": [
       "<Figure size 1600x1000 with 1 Axes>"
      ]
     },
     "metadata": {},
     "output_type": "display_data"
    }
   ],
   "source": [
    "# Affichage du diffractogramme avec plage 2𝜃 de 0° à 180° et sans annotations sur les pics\n",
    "xrd.show_plot(structure, annotate_peaks=False, two_theta_range=[0, 175])"
   ]
  },
  {
   "cell_type": "code",
   "execution_count": 7,
   "id": "6ff43eca",
   "metadata": {},
   "outputs": [
    {
     "name": "stdout",
     "output_type": "stream",
     "text": [
      "\n",
      " Trois premiers pics en termes d'angle 2𝜃 :\n",
      "  - 2𝜃 = 10.80°   | hkl = {'hkl': (1, 1, 1), 'multiplicity': 2}\n",
      "  - 2𝜃 = 21.69°   | hkl = {'hkl': (2, 2, 2), 'multiplicity': 2}\n",
      "  - 2𝜃 = 22.08°   | hkl = {'hkl': (1, 0, 0), 'multiplicity': 6}\n"
     ]
    }
   ],
   "source": [
    "# --- AFFICHAGE DES RÉSULTATS ---\n",
    "# Trois premiers pics en termes d'angle 2𝜃\n",
    "first_three_2theta = sorted(zip(angles_2theta, indices_hkl), key=lambda x: x[0])[:3]\n",
    "\n",
    "print(\"\\n Trois premiers pics en termes d'angle 2𝜃 :\")\n",
    "for angle, hkl in first_three_2theta:\n",
    "    print(f\"  - 2𝜃 = {angle:.2f}°   | hkl = {hkl[0]}\")"
   ]
  },
  {
   "cell_type": "code",
   "execution_count": 8,
   "id": "cca857e8",
   "metadata": {},
   "outputs": [
    {
     "name": "stdout",
     "output_type": "stream",
     "text": [
      "\n",
      " Trois pics les plus intenses :\n",
      "  - 2𝜃 = 26.21°   | Intensité = 100.0   | hkl = {'hkl': (2, 1, 1), 'multiplicity': 6}\n",
      "  - 2𝜃 = 38.19°   | Intensité = 38.0   | hkl = {'hkl': (1, 0, -1), 'multiplicity': 6}\n",
      "  - 2𝜃 = 36.60°   | Intensité = 36.0   | hkl = {'hkl': (3, 3, 2), 'multiplicity': 6}\n"
     ]
    }
   ],
   "source": [
    "# Trois pics les plus intenses\n",
    "top_three_intense = sorted(zip(angles_2theta, intensities, indices_hkl), key=lambda x: x[1], reverse=True)[:3]\n",
    "\n",
    "print(\"\\n Trois pics les plus intenses :\")\n",
    "for angle, intensity, hkl in top_three_intense:\n",
    "    print(f\"  - 2𝜃 = {angle:.2f}°   | Intensité = {intensity:.1f}   | hkl = {hkl[0]}\")"
   ]
  }
 ],
 "metadata": {
  "kernelspec": {
   "display_name": "Python 3 (ipykernel)",
   "language": "python",
   "name": "python3"
  },
  "language_info": {
   "codemirror_mode": {
    "name": "ipython",
    "version": 3
   },
   "file_extension": ".py",
   "mimetype": "text/x-python",
   "name": "python",
   "nbconvert_exporter": "python",
   "pygments_lexer": "ipython3",
   "version": "3.9.13"
  }
 },
 "nbformat": 4,
 "nbformat_minor": 5
}
