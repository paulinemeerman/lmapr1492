{
 "cells": [
  {
   "cell_type": "code",
   "execution_count": 3,
   "id": "721420f6",
   "metadata": {},
   "outputs": [],
   "source": [
    "import numpy as np\n",
    "from pymatgen.core.structure import Structure\n",
    "from pymatgen.ext.matproj import MPRester\n",
    "from pymatgen.symmetry.analyzer import SpacegroupAnalyzer\n",
    "from pymatgen.core.operations import SymmOp\n",
    "from jupyter_jsmol.pymatgen import quick_view"
   ]
  },
  {
   "cell_type": "code",
   "execution_count": 4,
   "id": "27bc4c77",
   "metadata": {},
   "outputs": [],
   "source": [
    "# Clé API et ID Matériau\n",
    "mp_key = \"71t7m37H7F5Jw2PfGOrlKxgH4ZbRQh3W\"\n",
    "mp_id = \"mp-11739\""
   ]
  },
  {
   "cell_type": "code",
   "execution_count": 5,
   "id": "af2210a0",
   "metadata": {},
   "outputs": [
    {
     "data": {
      "application/vnd.jupyter.widget-view+json": {
       "model_id": "3e6b0f3908d84f84a449e85dfb7b3a5a",
       "version_major": 2,
       "version_minor": 0
      },
      "text/plain": [
       "Retrieving MaterialsDoc documents:   0%|          | 0/1 [00:00<?, ?it/s]"
      ]
     },
     "metadata": {},
     "output_type": "display_data"
    }
   ],
   "source": [
    "# Chargement de la structure depuis Materials Project\n",
    "with MPRester(mp_key) as m:\n",
    "    prim_struc = m.get_structure_by_material_id(mp_id)"
   ]
  },
  {
   "cell_type": "code",
   "execution_count": 6,
   "id": "3b5de01b",
   "metadata": {},
   "outputs": [],
   "source": [
    "# Conversion en structure conventionnelle\n",
    "conv_struc = SpacegroupAnalyzer(prim_struc).get_conventional_standard_structure()\n",
    "\n",
    "# Analyseur de groupe d'espace\n",
    "sga = SpacegroupAnalyzer(conv_struc)\n",
    "sym_ops = sga.get_symmetry_operations()"
   ]
  },
  {
   "cell_type": "code",
   "execution_count": 7,
   "id": "e8b9594d",
   "metadata": {},
   "outputs": [],
   "source": [
    "# Fonction pour afficher la structure\n",
    "def show_structure(structure):\n",
    "    view = quick_view(structure, \"packed\", conventional=True)\n",
    "    display(view)\n",
    "    return view"
   ]
  },
  {
   "cell_type": "code",
   "execution_count": 8,
   "id": "5c23c0d1",
   "metadata": {},
   "outputs": [
    {
     "data": {
      "application/vnd.jupyter.widget-view+json": {
       "model_id": "9dd8b42933294c4b9b3dc59e92044752",
       "version_major": 2,
       "version_minor": 0
      },
      "text/plain": [
       "JsmolView(layout=Layout(align_self='stretch', height='400px'))"
      ]
     },
     "metadata": {},
     "output_type": "display_data"
    }
   ],
   "source": [
    "# Affichage de la structure de base\n",
    "view=show_structure(conv_struc)"
   ]
  },
  {
   "cell_type": "code",
   "execution_count": 13,
   "id": "412e1855",
   "metadata": {},
   "outputs": [
    {
     "name": "stdout",
     "output_type": "stream",
     "text": [
      "Position initiale de K : [0.33333333 0.66666667 0.16666667]\n",
      "Matrice de transformation :\n",
      "[[-1.  0.  0.]\n",
      " [ 0. -1.  0.]\n",
      " [ 0.  0. -1.]]\n",
      "Vecteur tau : [0. 0. 0.]\n",
      "Position finale de K : [-0.33333333 -0.66666667 -0.16666667]\n"
     ]
    }
   ],
   "source": [
    "i_atom = 1  # Atome K\n",
    "i_symmop = 1  # Opération de symétrie : inversion\n",
    "\n",
    "symmop = sym_ops[i_symmop]\n",
    "pos_init = conv_struc.sites[i_atom - 1].frac_coords\n",
    "pos_final = symmop.operate(pos_init)\n",
    "matrix = symmop.rotation_matrix\n",
    "tau = symmop.translation_vector\n",
    "\n",
    "print(f\"Position initiale de K : {pos_init}\")\n",
    "print(f\"Matrice de transformation :\\n{matrix}\")\n",
    "print(f\"Vecteur tau : {tau}\")\n",
    "print(f\"Position finale de K : {pos_final}\")"
   ]
  },
  {
   "cell_type": "code",
   "execution_count": 14,
   "id": "e5524c34",
   "metadata": {},
   "outputs": [
    {
     "name": "stdout",
     "output_type": "stream",
     "text": [
      "Position calculée manuellement : [-0.33333333 -0.66666667 -0.16666667]\n"
     ]
    }
   ],
   "source": [
    "# Vérification manuelle du calcul\n",
    "pos_computed = np.dot(matrix, pos_init) + tau\n",
    "print(f\"Position calculée manuellement : {pos_computed}\")"
   ]
  },
  {
   "cell_type": "code",
   "execution_count": 15,
   "id": "31dbdc17",
   "metadata": {},
   "outputs": [
    {
     "data": {
      "application/vnd.jupyter.widget-view+json": {
       "model_id": "c3acc6c0b7fa4b1697fd481e33a77797",
       "version_major": 2,
       "version_minor": 0
      },
      "text/plain": [
       "JsmolView(layout=Layout(align_self='stretch', height='400px'))"
      ]
     },
     "metadata": {},
     "output_type": "display_data"
    }
   ],
   "source": [
    "view1 = quick_view(conv_struc, \"packed\", conventional=True)\n",
    "display(view1)"
   ]
  },
  {
   "cell_type": "code",
   "execution_count": 16,
   "id": "73d0884b",
   "metadata": {},
   "outputs": [],
   "source": [
    "view1.script('select K; color cyan')\n",
    "view1.script('draw SYMOP 2 {atomno = 1}')"
   ]
  },
  {
   "cell_type": "code",
   "execution_count": 34,
   "id": "6c4515da",
   "metadata": {},
   "outputs": [
    {
     "name": "stdout",
     "output_type": "stream",
     "text": [
      "Position initiale de Te : [0.         0.         0.26073622]\n",
      "Matrice de transformation :\n",
      "[[ 0. -1.  0.]\n",
      " [ 1. -1.  0.]\n",
      " [ 0.  0.  1.]]\n",
      "Vecteur tau : [0. 0. 0.]\n",
      "Position finale de Te : [0.         0.         0.26073622]\n"
     ]
    }
   ],
   "source": [
    "i_atom = 7  # Atome Te\n",
    "i_symmop = 2  # Opération de symétrie : rotation\n",
    "\n",
    "symmop = sym_ops[i_symmop]\n",
    "pos_init = conv_struc.sites[i_atom - 1].frac_coords\n",
    "pos_final = symmop.operate(pos_init)\n",
    "matrix = symmop.rotation_matrix\n",
    "tau = symmop.translation_vector\n",
    "\n",
    "print(f\"Position initiale de Te : {pos_init}\")\n",
    "print(f\"Matrice de transformation :\\n{matrix}\")\n",
    "print(f\"Vecteur tau : {tau}\")\n",
    "print(f\"Position finale de Te : {pos_final}\")"
   ]
  },
  {
   "cell_type": "code",
   "execution_count": 27,
   "id": "679ac7ad",
   "metadata": {},
   "outputs": [
    {
     "name": "stdout",
     "output_type": "stream",
     "text": [
      "Position calculée manuellement : [0.         0.         0.26073622]\n"
     ]
    }
   ],
   "source": [
    "# Vérification manuelle du calcul\n",
    "pos_computed = np.dot(matrix, pos_init) + tau\n",
    "print(f\"Position calculée manuellement : {pos_computed}\")"
   ]
  },
  {
   "cell_type": "code",
   "execution_count": 28,
   "id": "330acf87",
   "metadata": {},
   "outputs": [
    {
     "data": {
      "application/vnd.jupyter.widget-view+json": {
       "model_id": "94581bbb6bad4ba085d77f23d81710a6",
       "version_major": 2,
       "version_minor": 0
      },
      "text/plain": [
       "JsmolView(layout=Layout(align_self='stretch', height='400px'))"
      ]
     },
     "metadata": {},
     "output_type": "display_data"
    }
   ],
   "source": [
    "view2 = quick_view(conv_struc, \"packed\", conventional=True)\n",
    "display(view2)"
   ]
  },
  {
   "cell_type": "code",
   "execution_count": 29,
   "id": "6afb3060",
   "metadata": {},
   "outputs": [],
   "source": [
    "view2.script('select Te; color blue')\n",
    "view2.script('draw SYMOP 3 {atomno = 7}')"
   ]
  },
  {
   "cell_type": "code",
   "execution_count": 35,
   "id": "a5eb06b6",
   "metadata": {},
   "outputs": [
    {
     "name": "stdout",
     "output_type": "stream",
     "text": [
      "Position initiale de La : [0.66666667 0.33333333 0.33333333]\n",
      "Matrice de transformation :\n",
      "[[ 0. -1.  0.]\n",
      " [-1.  0.  0.]\n",
      " [ 0.  0.  1.]]\n",
      "Vecteur tau : [0. 0. 0.]\n",
      "Position finale de La : [-0.33333333 -0.66666667  0.33333333]\n"
     ]
    }
   ],
   "source": [
    "i_atom = 5  # Atome La\n",
    "i_symmop = 7  # Opération de symétrie : roto-réflexion\n",
    "\n",
    "symmop = sym_ops[i_symmop]\n",
    "pos_init = conv_struc.sites[i_atom - 1].frac_coords\n",
    "pos_final = symmop.operate(pos_init)\n",
    "matrix = symmop.rotation_matrix\n",
    "tau = symmop.translation_vector\n",
    "\n",
    "print(f\"Position initiale de La : {pos_init}\")\n",
    "print(f\"Matrice de transformation :\\n{matrix}\")\n",
    "print(f\"Vecteur tau : {tau}\")\n",
    "print(f\"Position finale de La : {pos_final}\")"
   ]
  },
  {
   "cell_type": "code",
   "execution_count": 36,
   "id": "cd8a7f84",
   "metadata": {},
   "outputs": [
    {
     "name": "stdout",
     "output_type": "stream",
     "text": [
      "Position calculée manuellement : [-0.33333333 -0.66666667  0.33333333]\n"
     ]
    }
   ],
   "source": [
    "# Vérification manuelle du calcul\n",
    "pos_computed = np.dot(matrix, pos_init) + tau\n",
    "print(f\"Position calculée manuellement : {pos_computed}\")"
   ]
  },
  {
   "cell_type": "code",
   "execution_count": 37,
   "id": "b62faa54",
   "metadata": {},
   "outputs": [
    {
     "data": {
      "application/vnd.jupyter.widget-view+json": {
       "model_id": "ac096f44144745d6b8393bb668e000ab",
       "version_major": 2,
       "version_minor": 0
      },
      "text/plain": [
       "JsmolView(layout=Layout(align_self='stretch', height='400px'))"
      ]
     },
     "metadata": {},
     "output_type": "display_data"
    }
   ],
   "source": [
    "view3 = quick_view(conv_struc, \"packed\", conventional=True)\n",
    "display(view3)"
   ]
  },
  {
   "cell_type": "code",
   "execution_count": 38,
   "id": "9799f0d6",
   "metadata": {},
   "outputs": [],
   "source": [
    "# Appliquer la roto-réflexion sur le Te (opération 8, atome 7)\n",
    "view3.script('select La; color orange')  \n",
    "view3.script('draw SYMOP 8 {atomno = 5}')\n",
    "\n",
    "view3.script('draw PLANE xy')  # Dessine le plan de réflexion\n",
    "view3.script('rotate z 180')   # Applique une rotation de 180° autour de Z\n"
   ]
  }
 ],
 "metadata": {
  "kernelspec": {
   "display_name": "Python 3 (ipykernel)",
   "language": "python",
   "name": "python3"
  },
  "language_info": {
   "codemirror_mode": {
    "name": "ipython",
    "version": 3
   },
   "file_extension": ".py",
   "mimetype": "text/x-python",
   "name": "python",
   "nbconvert_exporter": "python",
   "pygments_lexer": "ipython3",
   "version": "3.9.13"
  }
 },
 "nbformat": 4,
 "nbformat_minor": 5
}
