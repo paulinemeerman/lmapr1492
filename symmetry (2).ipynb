{
 "cells": [
  {
   "cell_type": "code",
   "execution_count": 9,
   "id": "721420f6",
   "metadata": {},
   "outputs": [],
   "source": [
    "import numpy as np\n",
    "from pymatgen.core.structure import Structure\n",
    "from pymatgen.ext.matproj import MPRester\n",
    "from pymatgen.symmetry.analyzer import SpacegroupAnalyzer\n",
    "from pymatgen.core.operations import SymmOp\n",
    "from jupyter_jsmol.pymatgen import quick_view"
   ]
  },
  {
   "cell_type": "code",
   "execution_count": 10,
   "id": "27bc4c77",
   "metadata": {},
   "outputs": [],
   "source": [
    "# Clé API et ID Matériau\n",
    "mp_key = \"71t7m37H7F5Jw2PfGOrlKxgH4ZbRQh3W\"\n",
    "mp_id = \"mp-11739\""
   ]
  },
  {
   "cell_type": "code",
   "execution_count": 26,
   "id": "af2210a0",
   "metadata": {},
   "outputs": [
    {
     "data": {
      "application/vnd.jupyter.widget-view+json": {
       "model_id": "e5e497f285ed4e6fb4e6db176d97f345",
       "version_major": 2,
       "version_minor": 0
      },
      "text/plain": [
       "Retrieving MaterialsDoc documents:   0%|          | 0/1 [00:00<?, ?it/s]"
      ]
     },
     "metadata": {},
     "output_type": "display_data"
    }
   ],
   "source": [
    "# Chargement de la structure depuis Materials Project\n",
    "with MPRester(mp_key) as m:\n",
    "    prim_struc = m.get_structure_by_material_id(mp_id)"
   ]
  },
  {
   "cell_type": "code",
   "execution_count": 27,
   "id": "3b5de01b",
   "metadata": {},
   "outputs": [],
   "source": [
    "# Conversion en structure conventionnelle\n",
    "conv_struc = SpacegroupAnalyzer(prim_struc).get_conventional_standard_structure()\n",
    "\n",
    "# Analyseur de groupe d'espace\n",
    "sga = SpacegroupAnalyzer(conv_struc)\n",
    "sym_ops = sga.get_symmetry_operations()"
   ]
  },
  {
   "cell_type": "code",
   "execution_count": 28,
   "id": "e8b9594d",
   "metadata": {},
   "outputs": [],
   "source": [
    "# Fonction pour afficher la structure\n",
    "def show_structure(structure):\n",
    "    view = quick_view(structure, \"packed\", conventional=True)\n",
    "    display(view)\n",
    "    return view"
   ]
  },
  {
   "cell_type": "code",
   "execution_count": 29,
   "id": "5c23c0d1",
   "metadata": {},
   "outputs": [
    {
     "data": {
      "application/vnd.jupyter.widget-view+json": {
       "model_id": "60cee9ef4d06481dac019be4d755e460",
       "version_major": 2,
       "version_minor": 0
      },
      "text/plain": [
       "JsmolView(layout=Layout(align_self='stretch', height='400px'))"
      ]
     },
     "metadata": {},
     "output_type": "display_data"
    }
   ],
   "source": [
    "# Affichage de la structure de base\n",
    "view=show_structure(conv_struc)"
   ]
  },
  {
   "cell_type": "code",
   "execution_count": 30,
   "id": "70c8e2a9",
   "metadata": {},
   "outputs": [],
   "source": [
    "# Sélection des opérations de symétrie spécifiques\n",
    "inversion_op = sym_ops[2]  # Inversion\n",
    "rotation_op = sym_ops[5]  # Rotation d'ordre 3\n",
    "rotoinversion_op = sym_ops[6]  # Roto-inversion"
   ]
  },
  {
   "cell_type": "code",
   "execution_count": 31,
   "id": "5e7be82a",
   "metadata": {},
   "outputs": [],
   "source": [
    "# Atomes choisis pour l'application des symétries\n",
    "atom_indices = {\"K\": 0, \"La\": 1, \"Te1\": 2, \"Te2\": 3}"
   ]
  },
  {
   "cell_type": "code",
   "execution_count": 33,
   "id": "d0701efc",
   "metadata": {},
   "outputs": [
    {
     "name": "stdout",
     "output_type": "stream",
     "text": [
      "Inversion sur Te (Atome 3):\n",
      "Rot:\n",
      "[[ 0. -1.  0.]\n",
      " [ 1. -1.  0.]\n",
      " [ 0.  0.  1.]]\n",
      "tau\n",
      "[0. 0. 0.]\n",
      "  Position initiale: [0.26073622 0.26073622 0.26073622]\n",
      "  Position finale: [-0.26073622  0.          0.26073622]\n",
      "\n",
      "Rotation d'ordre 3 sur Te (Atome 4):\n",
      "Rot:\n",
      "[[ 1. -1.  0.]\n",
      " [ 1.  0.  0.]\n",
      " [ 0.  0. -1.]]\n",
      "tau\n",
      "[0. 0. 0.]\n",
      "  Position initiale: [0.73926378 0.73926378 0.73926378]\n",
      "  Position finale: [ 0.          0.73926378 -0.73926378]\n",
      "\n",
      "Roto-inversion sur K (Atome 1):\n",
      "Rot:\n",
      "[[ 0.  1.  0.]\n",
      " [ 1.  0.  0.]\n",
      " [ 0.  0. -1.]]\n",
      "tau\n",
      "[0. 0. 0.]\n",
      "  Position initiale: [0.5 0.5 0.5]\n",
      "  Position finale: [ 0.5  0.5 -0.5]\n",
      "  Correspondance trouvée avec l'atome 1 (K) à [0.5 0.5 0.5]\n",
      "\n"
     ]
    }
   ],
   "source": [
    "# Application et affichage des résultats\n",
    "for label, (op, atom_index) in zip([\n",
    "    \"Inversion\", \"Rotation d'ordre 3\", \"Roto-inversion\"\n",
    "], [(inversion_op, atom_indices[\"Te1\"]), (rotation_op, atom_indices[\"Te2\"]), (rotoinversion_op, atom_indices[\"K\"])]):\n",
    "    \n",
    "    pos_init = prim_struc.sites[atom_index].frac_coords\n",
    "    pos_final = op.operate(pos_init)\n",
    "    \n",
    "    # Trouver l'atome correspondant après transformation\n",
    "    j_atom = None\n",
    "    for k_atom, site in enumerate(prim_struc.sites):\n",
    "        if np.linalg.norm((site.frac_coords - pos_final) % 1) < 1e-6:\n",
    "            j_atom = k_atom\n",
    "            break\n",
    "    \n",
    "    print(f\"{label} sur {prim_struc.sites[atom_index].species_string} (Atome {atom_index+1}):\")\n",
    "    print(\"Rot:\")\n",
    "    print(op.rotation_matrix)\n",
    "    print(\"tau\")\n",
    "    print(op.translation_vector)\n",
    "    print(f\"  Position initiale: {pos_init}\")\n",
    "    print(f\"  Position finale: {pos_final}\")\n",
    "    if j_atom is not None:\n",
    "        print(f\"  Correspondance trouvée avec l'atome {j_atom+1} ({prim_struc.sites[j_atom].species_string}) à {prim_struc.sites[j_atom].frac_coords}\")\n",
    "    print()\n",
    "    \n",
    "    # Affichage dans JSmol\n",
    "    view.script(f'draw SYMOP {sym_ops.index(op)+1} {{atomno = {atom_index+1}}}')"
   ]
  },
  {
   "cell_type": "code",
   "execution_count": 34,
   "id": "139f007c",
   "metadata": {},
   "outputs": [
    {
     "data": {
      "application/vnd.jupyter.widget-view+json": {
       "model_id": "3abe320eca6e4015a87927b8f130e52e",
       "version_major": 2,
       "version_minor": 0
      },
      "text/plain": [
       "JsmolView(layout=Layout(align_self='stretch', height='400px'))"
      ]
     },
     "metadata": {},
     "output_type": "display_data"
    },
    {
     "data": {
      "application/vnd.jupyter.widget-view+json": {
       "model_id": "a4ea17f06d15407580b752162bcc1117",
       "version_major": 2,
       "version_minor": 0
      },
      "text/plain": [
       "JsmolView(layout=Layout(align_self='stretch', height='400px'))"
      ]
     },
     "metadata": {},
     "output_type": "display_data"
    },
    {
     "data": {
      "application/vnd.jupyter.widget-view+json": {
       "model_id": "189e0c8ec954421788b00f208cef9d77",
       "version_major": 2,
       "version_minor": 0
      },
      "text/plain": [
       "JsmolView(layout=Layout(align_self='stretch', height='400px'))"
      ]
     },
     "metadata": {},
     "output_type": "display_data"
    }
   ],
   "source": [
    "# Affichage de la structure avec JSmol\n",
    "def show_symmetry_op(op, atom_index):\n",
    "    view = show_structure(prim_struc)\n",
    "    view.script(f'draw SYMOP {sym_ops.index(op)+1} {{atomno = {atom_index+1}}}')\n",
    "    return view\n",
    "\n",
    "# Création de cellules de visualisation pour chaque symétrie\n",
    "for op, atom_index in [(inversion_op, atom_indices[\"Te1\"]), (rotation_op, atom_indices[\"Te2\"]), (rotoinversion_op, atom_indices[\"K\"])]:\n",
    "    show_symmetry_op(op, atom_index)\n"
   ]
  },
  {
   "cell_type": "code",
   "execution_count": null,
   "id": "a7e7235f",
   "metadata": {},
   "outputs": [],
   "source": []
  }
 ],
 "metadata": {
  "kernelspec": {
   "display_name": "Python 3 (ipykernel)",
   "language": "python",
   "name": "python3"
  },
  "language_info": {
   "codemirror_mode": {
    "name": "ipython",
    "version": 3
   },
   "file_extension": ".py",
   "mimetype": "text/x-python",
   "name": "python",
   "nbconvert_exporter": "python",
   "pygments_lexer": "ipython3",
   "version": "3.9.13"
  }
 },
 "nbformat": 4,
 "nbformat_minor": 5
}
