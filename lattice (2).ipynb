{
 "cells": [
  {
   "cell_type": "code",
   "execution_count": 26,
   "id": "45e30cb0",
   "metadata": {},
   "outputs": [],
   "source": [
    "import numpy as np\n",
    "from mp_api.client import MPRester\n",
    "from pymatgen.symmetry.analyzer import SpacegroupAnalyzer"
   ]
  },
  {
   "cell_type": "code",
   "execution_count": 28,
   "id": "b6bedafa",
   "metadata": {},
   "outputs": [],
   "source": [
    "mp_key = \"71t7m37H7F5Jw2PfGOrlKxgH4ZbRQh3W\"\n",
    "mp_id = \"mp-11739\""
   ]
  },
  {
   "cell_type": "code",
   "execution_count": 29,
   "id": "a07c8b74",
   "metadata": {},
   "outputs": [
    {
     "data": {
      "application/vnd.jupyter.widget-view+json": {
       "model_id": "c4abeb719b0f4f60859c4ee5aa0d990a",
       "version_major": 2,
       "version_minor": 0
      },
      "text/plain": [
       "Retrieving MaterialsDoc documents:   0%|          | 0/1 [00:00<?, ?it/s]"
      ]
     },
     "metadata": {},
     "output_type": "display_data"
    }
   ],
   "source": [
    "with MPRester(mp_key) as m:\n",
    "    prim_struc = m.get_structure_by_material_id(mp_id)"
   ]
  },
  {
   "cell_type": "code",
   "execution_count": 34,
   "id": "0e8cad81",
   "metadata": {},
   "outputs": [
    {
     "name": "stdout",
     "output_type": "stream",
     "text": [
      "Vecteurs de base du réseau direct :\n",
      "[[ 8.29989832e+00 -2.35468939e+00 -9.25040000e-04]\n",
      " [ 8.29989832e+00  2.35468939e+00 -9.25040000e-04]\n",
      " [ 7.63231986e+00 -0.00000000e+00  4.02250914e+00]]\n",
      "Longueur de a = 8.627448933573376 Angström\n",
      "Longueur de b = 8.627448933573376 Angström\n",
      "Longueur de c = 8.627449578336227 Angström\n"
     ]
    }
   ],
   "source": [
    "lattice = prim_struc.lattice\n",
    "direct_vectors = lattice.matrix  # Matrice 3x3 contenant les vecteurs du réseau direct\n",
    "\n",
    "print(\"Vecteurs de base du réseau direct :\")\n",
    "print(direct_vectors)\n",
    "\n",
    "a, b, c = direct_vectors\n",
    "\n",
    "# Calcul des longueurs des vecteurs\n",
    "length_a = np.linalg.norm(a)\n",
    "length_b = np.linalg.norm(b)\n",
    "length_c = np.linalg.norm(c)\n",
    "\n",
    "print(f\"Longueur de a = {length_a} Angström\")\n",
    "print(f\"Longueur de b = {length_b} Angström\")\n",
    "print(f\"Longueur de c = {length_c} Angström\")"
   ]
  },
  {
   "cell_type": "code",
   "execution_count": 35,
   "id": "23bddea9",
   "metadata": {},
   "outputs": [
    {
     "name": "stdout",
     "output_type": "stream",
     "text": [
      "Vecteurs de base du réseau réciproque :\n",
      "[[ 3.78429750e-01 -1.33418559e+00 -7.18033644e-01]\n",
      " [ 3.78429750e-01  1.33418559e+00 -7.18033644e-01]\n",
      " [ 1.74051888e-04  0.00000000e+00  1.56167622e+00]]\n",
      "Longueur de a* = 1.561676207785567 Angström⁻¹\n",
      "Longueur de b* = 1.561676207785567 Angström⁻¹\n",
      "Longueur de c* = 1.5616762343792705 Angström⁻¹\n"
     ]
    }
   ],
   "source": [
    "reciprocal_lattice = lattice.reciprocal_lattice\n",
    "reciprocal_vectors = reciprocal_lattice.matrix  # Matrice 3x3 contenant les vecteurs réciproques\n",
    "\n",
    "print(\"Vecteurs de base du réseau réciproque :\")\n",
    "print(reciprocal_vectors)\n",
    "\n",
    "a, b, c = reciprocal_vectors\n",
    "\n",
    "# Calcul des longueurs des vecteurs réciproques\n",
    "length_a = np.linalg.norm(b1)\n",
    "length_b = np.linalg.norm(b2)\n",
    "length_c = np.linalg.norm(b3)\n",
    "\n",
    "print(f\"Longueur de a* = {length_a} Angström⁻¹\")\n",
    "print(f\"Longueur de b* = {length_b} Angström⁻¹\")\n",
    "print(f\"Longueur de c* = {length_c} Angström⁻¹\")\n"
   ]
  },
  {
   "cell_type": "code",
   "execution_count": 32,
   "id": "63210457",
   "metadata": {},
   "outputs": [
    {
     "name": "stdout",
     "output_type": "stream",
     "text": [
      "Système cristallin : trigonal\n",
      "Type de maille : rhombohedral\n"
     ]
    }
   ],
   "source": [
    "conv_struc = SpacegroupAnalyzer(prim_struc).get_conventional_standard_structure()\n",
    "sga = SpacegroupAnalyzer(conv_struc)\n",
    "\n",
    "crystal_system = sga.get_crystal_system()\n",
    "lattice_type = sga.get_lattice_type()\n",
    "\n",
    "print(f\"Système cristallin : {crystal_system}\")\n",
    "print(f\"Type de maille : {lattice_type}\")"
   ]
  },
  {
   "cell_type": "code",
   "execution_count": 33,
   "id": "7a3cb70b",
   "metadata": {},
   "outputs": [
    {
     "name": "stdout",
     "output_type": "stream",
     "text": [
      "Groupe ponctuel : -3m\n"
     ]
    }
   ],
   "source": [
    "point_group = sga.get_point_group_symbol()\n",
    "\n",
    "print(f\"Groupe ponctuel : {point_group}\")"
   ]
  }
 ],
 "metadata": {
  "kernelspec": {
   "display_name": "Python 3 (ipykernel)",
   "language": "python",
   "name": "python3"
  },
  "language_info": {
   "codemirror_mode": {
    "name": "ipython",
    "version": 3
   },
   "file_extension": ".py",
   "mimetype": "text/x-python",
   "name": "python",
   "nbconvert_exporter": "python",
   "pygments_lexer": "ipython3",
   "version": "3.9.13"
  }
 },
 "nbformat": 4,
 "nbformat_minor": 5
}
